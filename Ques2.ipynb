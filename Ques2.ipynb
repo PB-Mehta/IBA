{
 "cells": [
  {
   "attachments": {},
   "cell_type": "markdown",
   "metadata": {},
   "source": [
    "Consider a dataset containing the heights (in centimeters) of 1000 individuals. The\n",
    "mean height is 170 cm with a standard deviation of 10 cm. The dataset is approximately\n",
    "normally distributed, and its skewness is approximately zero. Based on this information,\n",
    "answer the following questions:"
   ]
  },
  {
   "attachments": {},
   "cell_type": "markdown",
   "metadata": {},
   "source": [
    "a. What percentage of individuals in the dataset have heights between 160 cm\n",
    "and 180 cm?"
   ]
  },
  {
   "cell_type": "code",
   "execution_count": 1,
   "metadata": {},
   "outputs": [
    {
     "name": "stdout",
     "output_type": "stream",
     "text": [
      "Percentage of individuals with heights between 160 cm and 180 cm: 68.26894921370858\n"
     ]
    }
   ],
   "source": [
    "import scipy.stats as stats\n",
    "\n",
    "mean_h = 170\n",
    "std_d = 10\n",
    "\n",
    "z1 = (160 - mean_h) / std_d\n",
    "z2 = (180 - mean_h) / std_d\n",
    "\n",
    "percentage_between = stats.norm.cdf(z2) - stats.norm.cdf(z1)\n",
    "percentage_between *= 100\n",
    "\n",
    "print(\"Percentage of individuals with heights between 160 cm and 180 cm:\", percentage_between)\n"
   ]
  },
  {
   "attachments": {},
   "cell_type": "markdown",
   "metadata": {},
   "source": [
    "b. If we randomly select 100 individuals from the dataset, what is the probability\n",
    "that their average height is greater than 175 cm?"
   ]
  },
  {
   "cell_type": "code",
   "execution_count": 6,
   "metadata": {},
   "outputs": [
    {
     "name": "stdout",
     "output_type": "stream",
     "text": [
      "Probability that the average height of 100 individuals is greater than 175 cm: 2.866515719235352e-07\n"
     ]
    }
   ],
   "source": [
    "import scipy.stats as stats\n",
    "\n",
    "mean_h = 170\n",
    "std_d = 10\n",
    "sample_size = 100\n",
    "\n",
    "std_error = std_d / (sample_size ** 0.5)\n",
    "\n",
    "z = (175 - mean_h) / std_error\n",
    "\n",
    "probability_greater = 1 - stats.norm.cdf(z)\n",
    "\n",
    "print(\"Probability that the average height of 100 individuals is greater than 175 cm:\", probability_greater)\n"
   ]
  },
  {
   "attachments": {},
   "cell_type": "markdown",
   "metadata": {},
   "source": [
    "c.Assuming the dataset follows a normal distribution, what is the z-score\n",
    "corresponding to a height of 185 cm?"
   ]
  },
  {
   "cell_type": "code",
   "execution_count": 4,
   "metadata": {},
   "outputs": [
    {
     "name": "stdout",
     "output_type": "stream",
     "text": [
      "Z-score corresponding to a height of 185 cm: 1.5\n"
     ]
    }
   ],
   "source": [
    "mean_height = 170\n",
    "std_dev = 10\n",
    "\n",
    "z = (185 - mean_height) / std_dev\n",
    "\n",
    "print(\"Z-score corresponding to a height of 185 cm:\", z)\n"
   ]
  },
  {
   "attachments": {},
   "cell_type": "markdown",
   "metadata": {},
   "source": [
    "d.We know that 5% of the dataset has heights below a certain value. What is\n",
    "the approximate height corresponding to this threshold?"
   ]
  },
  {
   "cell_type": "code",
   "execution_count": 3,
   "metadata": {},
   "outputs": [
    {
     "name": "stdout",
     "output_type": "stream",
     "text": [
      "Approximate height corresponding to the threshold of 5%: 153.55146373048527\n"
     ]
    }
   ],
   "source": [
    "import scipy.stats as stats\n",
    "\n",
    "mean_h = 170\n",
    "std_dev = 10\n",
    "z_threshold = stats.norm.ppf(0.05)\n",
    "h_threshold = mean_h + (z_threshold * std_dev)\n",
    "\n",
    "print(\"Approximate height corresponding to the threshold of 5%:\", h_threshold)\n"
   ]
  },
  {
   "attachments": {},
   "cell_type": "markdown",
   "metadata": {},
   "source": [
    "e. Calculate the coefficient of variation (CV) for the dataset."
   ]
  },
  {
   "cell_type": "code",
   "execution_count": 5,
   "metadata": {},
   "outputs": [
    {
     "name": "stdout",
     "output_type": "stream",
     "text": [
      "Coefficient of Variation (CV) for the dataset: 5.88235294117647\n"
     ]
    }
   ],
   "source": [
    "mean_height = 170\n",
    "std_dev = 10\n",
    "\n",
    "cv = (std_dev / mean_height) * 100\n",
    "\n",
    "print(\"Coefficient of Variation (CV) for the dataset:\", cv)\n"
   ]
  },
  {
   "attachments": {},
   "cell_type": "markdown",
   "metadata": {},
   "source": [
    "f. Calculate the skewness of the dataset and interpret the result.\n",
    "_ans_The skewness of a dataset measures the asymmetry of its distribution. A skewness of zero indicates that the dataset is symmetric."
   ]
  },
  {
   "cell_type": "code",
   "execution_count": null,
   "metadata": {},
   "outputs": [],
   "source": []
  }
 ],
 "metadata": {
  "kernelspec": {
   "display_name": "base",
   "language": "python",
   "name": "python3"
  },
  "language_info": {
   "codemirror_mode": {
    "name": "ipython",
    "version": 3
   },
   "file_extension": ".py",
   "mimetype": "text/x-python",
   "name": "python",
   "nbconvert_exporter": "python",
   "pygments_lexer": "ipython3",
   "version": "3.10.9"
  },
  "orig_nbformat": 4
 },
 "nbformat": 4,
 "nbformat_minor": 2
}
