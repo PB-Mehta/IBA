{
 "cells": [
  {
   "attachments": {},
   "cell_type": "markdown",
   "metadata": {},
   "source": [
    "Q-10. A factory produces light bulbs, and the probability of a bulb being defective is 0.05.\n",
    "The factory produces a large batch of 500 light bulbs.\n",
    "a. What is the probability that exactly 20 bulbs are defective?\n",
    "b. What is the probability that at least 10 bulbs are defective?\n",
    "c. What is the probability that at max 15 bulbs are defective?\n",
    "d. On average, how many defective bulbs would you expect in a batch of 500?"
   ]
  },
  {
   "attachments": {},
   "cell_type": "markdown",
   "metadata": {},
   "source": [
    "a.What is the probability that exactly 20 bulbs are defective?"
   ]
  },
  {
   "cell_type": "code",
   "execution_count": 2,
   "metadata": {},
   "outputs": [
    {
     "name": "stdout",
     "output_type": "stream",
     "text": [
      "0.05161619253663997\n"
     ]
    }
   ],
   "source": [
    "from math import comb\n",
    "p_defective = 0.05\n",
    "n_bulbs = 500\n",
    "\n",
    "def binomial_probability(n, k, p):\n",
    "    return comb(n, k) * (p ** k) * ((1 - p) ** (n - k))\n",
    "\n",
    "prob_20_defective = binomial_probability(n_bulbs, 20, p_defective)\n",
    "print(prob_20_defective)    "
   ]
  },
  {
   "attachments": {},
   "cell_type": "markdown",
   "metadata": {},
   "source": [
    "b.What is the probability that at least 10 bulbs are defective?"
   ]
  },
  {
   "cell_type": "code",
   "execution_count": 3,
   "metadata": {},
   "outputs": [
    {
     "name": "stdout",
     "output_type": "stream",
     "text": [
      "0.9998316463654692\n"
     ]
    }
   ],
   "source": [
    "def probability_at_least_k(n, k, p):\n",
    "    probability = 0\n",
    "    for i in range(k, n + 1):\n",
    "        probability += binomial_probability(n, i, p)\n",
    "    return probability\n",
    "\n",
    "prob_at_least_10_defective = probability_at_least_k(n_bulbs, 10, p_defective)\n",
    "print(prob_at_least_10_defective)"
   ]
  },
  {
   "attachments": {},
   "cell_type": "markdown",
   "metadata": {},
   "source": [
    "c. Probability that at most 15 bulbs are defective"
   ]
  },
  {
   "cell_type": "code",
   "execution_count": 4,
   "metadata": {},
   "outputs": [
    {
     "name": "stdout",
     "output_type": "stream",
     "text": [
      "0.019858377163006223\n"
     ]
    }
   ],
   "source": [
    "def probability_at_most_k(n, k, p):\n",
    "    probability = 0\n",
    "    for i in range(k + 1):\n",
    "        probability += binomial_probability(n, i, p)\n",
    "    return probability\n",
    "prob_at_most_15_defective = probability_at_most_k(n_bulbs, 15, p_defective)\n",
    "print(prob_at_most_15_defective)"
   ]
  },
  {
   "attachments": {},
   "cell_type": "markdown",
   "metadata": {},
   "source": [
    "d. Average number of defective bulbs in a batch of 500"
   ]
  },
  {
   "cell_type": "code",
   "execution_count": 5,
   "metadata": {},
   "outputs": [
    {
     "name": "stdout",
     "output_type": "stream",
     "text": [
      "25.0\n"
     ]
    }
   ],
   "source": [
    "def expected_value(n, p):\n",
    "    return n * p\n",
    "avg_defective_bulbs = expected_value(n_bulbs, p_defective)\n",
    "print(avg_defective_bulbs)"
   ]
  },
  {
   "cell_type": "code",
   "execution_count": null,
   "metadata": {},
   "outputs": [],
   "source": []
  }
 ],
 "metadata": {
  "kernelspec": {
   "display_name": "base",
   "language": "python",
   "name": "python3"
  },
  "language_info": {
   "codemirror_mode": {
    "name": "ipython",
    "version": 3
   },
   "file_extension": ".py",
   "mimetype": "text/x-python",
   "name": "python",
   "nbconvert_exporter": "python",
   "pygments_lexer": "ipython3",
   "version": "3.10.9"
  },
  "orig_nbformat": 4
 },
 "nbformat": 4,
 "nbformat_minor": 2
}
