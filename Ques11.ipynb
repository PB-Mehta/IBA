{
 "cells": [
  {
   "attachments": {},
   "cell_type": "markdown",
   "metadata": {},
   "source": []
  },
  {
   "cell_type": "code",
   "execution_count": 2,
   "metadata": {},
   "outputs": [],
   "source": [
    "import pandas as pd"
   ]
  },
  {
   "cell_type": "code",
   "execution_count": 4,
   "metadata": {},
   "outputs": [],
   "source": [
    "df=pd.read_csv('ques3data.csv')"
   ]
  },
  {
   "attachments": {},
   "cell_type": "markdown",
   "metadata": {},
   "source": [
    "a. Check whether the distribution of all the classes is the same or not:\n",
    "To compare the distributions of different classes"
   ]
  },
  {
   "cell_type": "code",
   "execution_count": 5,
   "metadata": {},
   "outputs": [
    {
     "name": "stdout",
     "output_type": "stream",
     "text": [
      "The distributions of the classes are not the same.\n"
     ]
    }
   ],
   "source": [
    "import scipy.stats as stats\n",
    "bpa=df[' Blood Pressure After (mmHg)']\n",
    "bpb=df[' Blood Pressure Before (mmHg)']\n",
    "\n",
    "# Perform Kruskal-Wallis test\n",
    "statistic, p_value = stats.kruskal(bpa,bpb)\n",
    "alpha = 0.05\n",
    "\n",
    "# Check the significance of the test\n",
    "if p_value < alpha:\n",
    "    print(\"The distributions of the classes are not the same.\")\n",
    "else:\n",
    "    print(\"The distributions of the classes are the same.\")\n"
   ]
  },
  {
   "attachments": {},
   "cell_type": "markdown",
   "metadata": {},
   "source": [
    "b. Check for the equality of variance (using Levene's test):"
   ]
  },
  {
   "cell_type": "code",
   "execution_count": 6,
   "metadata": {},
   "outputs": [
    {
     "name": "stdout",
     "output_type": "stream",
     "text": [
      "The variances between classes are equal.\n"
     ]
    }
   ],
   "source": [
    "# Perform Levene's test\n",
    "statistic, p_value = stats.levene(bpb,bpa)\n",
    "alpha = 0.05\n",
    "\n",
    "# Check the significance of the test\n",
    "if p_value < alpha:\n",
    "    print(\"The variances between classes are not equal.\")\n",
    "else:\n",
    "    print(\"The variances between classes are equal.\")\n"
   ]
  },
  {
   "cell_type": "code",
   "execution_count": 7,
   "metadata": {},
   "outputs": [
    {
     "name": "stdout",
     "output_type": "stream",
     "text": [
      "There are significant differences in the means of the classes.\n"
     ]
    }
   ],
   "source": [
    "from scipy.stats import f_oneway\n",
    "\n",
    "# Perform ANOVA test\n",
    "statistic, p_value = f_oneway(bpa,bpb)\n",
    "\n",
    "# Check the significance level\n",
    "alpha = 0.05\n",
    "\n",
    "# Print the result\n",
    "if p_value < alpha:\n",
    "    print(\"There are significant differences in the means of the classes.\")\n",
    "else:\n",
    "    print(\"There are no significant differences in the means of the classes.\")\n"
   ]
  },
  {
   "cell_type": "code",
   "execution_count": null,
   "metadata": {},
   "outputs": [],
   "source": []
  }
 ],
 "metadata": {
  "kernelspec": {
   "display_name": "base",
   "language": "python",
   "name": "python3"
  },
  "language_info": {
   "codemirror_mode": {
    "name": "ipython",
    "version": 3
   },
   "file_extension": ".py",
   "mimetype": "text/x-python",
   "name": "python",
   "nbconvert_exporter": "python",
   "pygments_lexer": "ipython3",
   "version": "3.10.9"
  },
  "orig_nbformat": 4
 },
 "nbformat": 4,
 "nbformat_minor": 2
}
