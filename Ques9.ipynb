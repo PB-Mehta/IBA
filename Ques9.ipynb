{
 "cells": [
  {
   "attachments": {},
   "cell_type": "markdown",
   "metadata": {},
   "source": [
    "Test the hypothesis that the mean scores of all the students are the same. If not, name the\n",
    "student with the highest score."
   ]
  },
  {
   "cell_type": "code",
   "execution_count": 1,
   "metadata": {},
   "outputs": [
    {
     "name": "stdout",
     "output_type": "stream",
     "text": [
      "The mean scores of all the students are the same.\n"
     ]
    }
   ],
   "source": [
    "import numpy as np\n",
    "import scipy.stats as stats\n",
    "\n",
    "# Define the data\n",
    "students = ['karan', 'deepa', 'karthik', 'chandan', 'jeevan']\n",
    "exam1_scores = [85, 70, 90, 75, 95]\n",
    "exam2_scores = [90, 80, 85, 70, 92]\n",
    "final_scores = [92, 85, 88, 75, 96]\n",
    "\n",
    "# Perform the ANOVA test\n",
    "f_value, p_value = stats.f_oneway(exam1_scores, exam2_scores, final_scores)\n",
    "\n",
    "# Check if the mean scores are the same\n",
    "if p_value > 0.05:\n",
    "    print(\"The mean scores of all the students are the same.\")\n",
    "else:\n",
    "    # Find the student with the highest score\n",
    "    highest_score_index = np.argmax(final_scores)\n",
    "    highest_score_student = students[highest_score_index]\n",
    "    highest_score = final_scores[highest_score_index]\n",
    "    print(\"The mean scores of the students are not the same.\")\n",
    "    print(\"Student with the highest score:\", highest_score_student)\n",
    "    print(\"Highest score:\", highest_score)\n"
   ]
  },
  {
   "cell_type": "code",
   "execution_count": null,
   "metadata": {},
   "outputs": [],
   "source": []
  }
 ],
 "metadata": {
  "kernelspec": {
   "display_name": "base",
   "language": "python",
   "name": "python3"
  },
  "language_info": {
   "codemirror_mode": {
    "name": "ipython",
    "version": 3
   },
   "file_extension": ".py",
   "mimetype": "text/x-python",
   "name": "python",
   "nbconvert_exporter": "python",
   "pygments_lexer": "ipython3",
   "version": "3.10.9"
  },
  "orig_nbformat": 4
 },
 "nbformat": 4,
 "nbformat_minor": 2
}
